{
 "metadata": {
  "language_info": {
   "codemirror_mode": {
    "name": "ipython",
    "version": 3
   },
   "file_extension": ".py",
   "mimetype": "text/x-python",
   "name": "python",
   "nbconvert_exporter": "python",
   "pygments_lexer": "ipython3",
   "version": "3.8.1-final"
  },
  "orig_nbformat": 2,
  "kernelspec": {
   "name": "python3",
   "display_name": "Python 3"
  }
 },
 "nbformat": 4,
 "nbformat_minor": 2,
 "cells": [
  {
   "source": [
    "## Import module"
   ],
   "cell_type": "markdown",
   "metadata": {}
  },
  {
   "cell_type": "code",
   "execution_count": 2,
   "metadata": {},
   "outputs": [],
   "source": [
    "import numpy as np\n",
    "from sklearn.model_selection import train_test_split\n",
    "from sklearn import datasets\n",
    "import matplotlib.pyplot as plt"
   ]
  },
  {
   "source": [
    "## Input datasets"
   ],
   "cell_type": "markdown",
   "metadata": {}
  },
  {
   "cell_type": "code",
   "execution_count": 46,
   "metadata": {},
   "outputs": [
    {
     "output_type": "stream",
     "name": "stdout",
     "text": [
      "(1000, 10)\n(1000,)\n[[ 0.24063119 -0.07970884 -0.05313268  0.09263489 -0.13935777  1.20319285\n  -0.15590018 -0.09709308  0.06994683  0.11660277]\n [ 0.75425016 -0.937854    0.21947276 -1.28066902  1.55618457 -0.65538962\n   0.77023157  0.19311463 -2.27886416  0.65102942]\n [ 0.9584009  -1.31841143  1.15350536 -0.96816469  1.88667929  0.53473693\n   0.46015911  0.0423321   0.79249125  0.24144309]\n [ 0.64384845  0.35082051 -0.10869679  0.71060146 -0.85406842  0.33485545\n   0.60778386  0.94834854  1.29778445  2.16583174]\n [ 1.03268464 -1.26482413  0.18067775  0.35989813 -0.26303363 -0.33760592\n   0.52075594 -1.4403634   1.25766489  0.14630826]]\n[0 0 1 1 1 0 0 0 1 0]\n"
     ]
    }
   ],
   "source": [
    "X, y = datasets.make_classification(n_samples=1000, n_features=10, n_classes=2, random_state=123)\n",
    "X_train, X_test, y_train, y_test = train_test_split(X,y,test_size=0.2,random_state=123)\n",
    "print(X.shape)\n",
    "print(y.shape)\n",
    "print(X[0:5])\n",
    "print(y[0:10])"
   ]
  },
  {
   "source": [
    "## create discrete naive bayes model"
   ],
   "cell_type": "markdown",
   "metadata": {}
  },
  {
   "cell_type": "code",
   "execution_count": 57,
   "metadata": {},
   "outputs": [],
   "source": [
    "class NaiveBayes:\n",
    "    def fit(self, X, y):\n",
    "        self._samples, self._features = X.shape\n",
    "        self._classes = np.unique(y)\n",
    "        self._labels = len(self._classes)\n",
    "\n",
    "        # initialize mean, var, and prior for each feature\n",
    "        self._mean = np.zeros((self._labels, self._features), dtype=np.float64)\n",
    "        self._var = np.zeros((self._labels, self._features), dtype=np.float64)\n",
    "        self._priors = np.zeros(self._labels, dtype=np.float64)\n",
    "\n",
    "        # calculate mean, var and prior for each feature given y\n",
    "        for i,label in enumerate(self._classes):\n",
    "            temp = X[y==label]\n",
    "            self._mean[i,:] = temp.mean(axis=0)\n",
    "            self._var[i,:] = temp.var(axis=0)\n",
    "            self._priors[i] = temp.shape[0]/float(self._samples)\n",
    "    \n",
    "    # calculate posterior for each class given observed dataset x\n",
    "    def _train(self, x):\n",
    "        posteriors = []\n",
    "\n",
    "        for i, label in enumerate(self._classes):\n",
    "            prior = np.log(self._priors[i])\n",
    "            posterior = prior + np.sum(np.log(self._pdf(i,x)))\n",
    "            posteriors.append(posterior)\n",
    "        \n",
    "        # compare and return highest posterior probability\n",
    "        return self._classes[np.argmax(posteriors)]\n",
    "\n",
    "\n",
    "    # calculate pdf for each row of observed dataset x\n",
    "    def _pdf(self, index, x):\n",
    "        mean = self._mean[index]\n",
    "        var = self._var[index]\n",
    "        numerator = np.exp(-(x-mean)**2 / (2*var))\n",
    "        denominator = np.sqrt(2*np.pi*var)\n",
    "        return numerator/denominator  \n",
    "\n",
    "    # predict test data\n",
    "    def predict(self, X):\n",
    "        y_pred = [self._train(x) for x in X]\n",
    "        return np.array(y_pred)\n",
    "    \n",
    "    # calculate accuracy\n",
    "    def accuracy(self, y_test, y_pred):\n",
    "        accuracy = np.sum(y_test == y_pred) / len(y_test)\n",
    "        return accuracy"
   ]
  },
  {
   "cell_type": "code",
   "execution_count": 58,
   "metadata": {},
   "outputs": [
    {
     "output_type": "stream",
     "name": "stdout",
     "text": [
      "[0 1]\n800\n10\n2\n(2, 10)\n[[0.98269025 0.95576451 0.36205835 0.44312622 1.29896635 0.86864312\n  1.03288266 0.89110435 0.33131845 0.95275246]\n [1.03305993 0.95375061 0.48209481 0.59179712 1.7236553  0.92576642\n  0.96969459 1.10314154 0.50775021 1.14787765]]\n(2,)\n(10,)\n0.965\n"
     ]
    }
   ],
   "source": [
    "nb = NaiveBayes()\n",
    "nb.fit(X_train, y_train)\n",
    "print(nb._classes)\n",
    "print(nb._samples)\n",
    "print(nb._features)\n",
    "print(nb._labels)\n",
    "print(nb._mean.shape)\n",
    "print(nb._var)\n",
    "print(nb._priors.shape)\n",
    "print(nb._pdf(0,X[0]).shape)\n",
    "y_pred = nb.predict(X_test)\n",
    "print(nb.accuracy(y_test,y_pred))"
   ]
  },
  {
   "cell_type": "code",
   "execution_count": 60,
   "metadata": {},
   "outputs": [
    {
     "output_type": "stream",
     "name": "stdout",
     "text": [
      "Naive Bayes classification accuracy 0.965\n"
     ]
    }
   ],
   "source": [
    "def accuracy(y_true, y_pred):\n",
    "    accuracy = np.sum(y_true == y_pred) / len(y_true)\n",
    "    return accuracy\n",
    "\n",
    "X, y = datasets.make_classification(n_samples=1000, n_features=10, n_classes=2, random_state=123)\n",
    "X_train, X_test, y_train, y_test = train_test_split(X, y, test_size=0.2, random_state=123)\n",
    "\n",
    "nb = NaiveBayes()\n",
    "nb.fit(X_train, y_train)\n",
    "y_pred = nb.predict(X_test)\n",
    "accuracy = nb.accuracy(y_test,y_pred)\n",
    "\n",
    "print(\"Naive Bayes classification accuracy\", accuracy)"
   ]
  }
 ]
}